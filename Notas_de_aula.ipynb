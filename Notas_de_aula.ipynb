{
 "cells": [
  {
   "cell_type": "code",
   "execution_count": 8,
   "metadata": {},
   "outputs": [],
   "source": [
    "import numpy as np\n",
    "import matplotlib.pyplot as plt"
   ]
  },
  {
   "cell_type": "code",
   "execution_count": 6,
   "metadata": {},
   "outputs": [],
   "source": [
    "a = np.array([1, 2, 9, 10])"
   ]
  },
  {
   "cell_type": "code",
   "execution_count": 12,
   "metadata": {},
   "outputs": [
    {
     "data": {
      "text/plain": [
       "<matplotlib.collections.PathCollection at 0x2bfbab32790>"
      ]
     },
     "execution_count": 12,
     "metadata": {},
     "output_type": "execute_result"
    },
    {
     "data": {
      "image/png": "[encoded data removed]",
      "text/plain": [
       "<Figure size 640x480 with 1 Axes>"
      ]
     },
     "metadata": {},
     "output_type": "display_data"
    }
   ],
   "source": [
    "plt.scatter([1,2,3,4], a)"
   ]
  },
  {
   "cell_type": "code",
   "execution_count": 1,
   "metadata": {},
   "outputs": [
    {
     "name": "stdout",
     "output_type": "stream",
     "text": [
      "          CD_SETOR CD_SIT                                        NM_SIT CD_UF  \\\n",
      "0  110001505000001      1  Área Urbana de Alta Densidade de Edificações    11   \n",
      "1  110001505000002      1  Área Urbana de Alta Densidade de Edificações    11   \n",
      "2  110001505000003      1  Área Urbana de Alta Densidade de Edificações    11   \n",
      "3  110001505000004      1  Área Urbana de Alta Densidade de Edificações    11   \n",
      "4  110001505000005      1  Área Urbana de Alta Densidade de Edificações    11   \n",
      "\n",
      "      NM_UF SIGLA_UF   CD_MUN                 NM_MUN    CD_DIST  \\\n",
      "0  Rondônia       RO  1100015  Alta Floresta D'Oeste  110001505   \n",
      "1  Rondônia       RO  1100015  Alta Floresta D'Oeste  110001505   \n",
      "2  Rondônia       RO  1100015  Alta Floresta D'Oeste  110001505   \n",
      "3  Rondônia       RO  1100015  Alta Floresta D'Oeste  110001505   \n",
      "4  Rondônia       RO  1100015  Alta Floresta D'Oeste  110001505   \n",
      "\n",
      "                 NM_DIST   CD_SUBDIST NM_SUBDIST  \\\n",
      "0  Alta Floresta D'Oeste  11000150500       None   \n",
      "1  Alta Floresta D'Oeste  11000150500       None   \n",
      "2  Alta Floresta D'Oeste  11000150500       None   \n",
      "3  Alta Floresta D'Oeste  11000150500       None   \n",
      "4  Alta Floresta D'Oeste  11000150500       None   \n",
      "\n",
      "                                            geometry  \n",
      "0  POLYGON ((-61.99890 -11.93178, -61.99887 -11.9...  \n",
      "1  POLYGON ((-61.99996 -11.94202, -62.00570 -11.9...  \n",
      "2  POLYGON ((-62.00377 -11.92940, -62.00375 -11.9...  \n",
      "3  POLYGON ((-61.99902 -11.92686, -61.99901 -11.9...  \n",
      "4  POLYGON ((-62.00653 -11.91785, -62.00645 -11.9...  \n"
     ]
    }
   ],
   "source": [
    "## testes\n",
    "import geopandas as gpd\n",
    "\n",
    "# Read the shapefile\n",
    "gdf = gpd.read_file(\"BR_Setores_2021/BR_Setores_2021.shp\")\n",
    "\n",
    "# Print the first few rows of the GeoDataFrame\n",
    "print(gdf.head())"
   ]
  },
  {
   "cell_type": "code",
   "execution_count": 7,
   "metadata": {},
   "outputs": [],
   "source": [
    "estado_rj = gdf[gdf['SIGLA_UF'] == 'RJ']"
   ]
  },
  {
   "cell_type": "code",
   "execution_count": 9,
   "metadata": {},
   "outputs": [
    {
     "data": {
      "text/html": [
       "<div>\n",
       "<style scoped>\n",
       "    .dataframe tbody tr th:only-of-type {\n",
       "        vertical-align: middle;\n",
       "    }\n",
       "\n",
       "    .dataframe tbody tr th {\n",
       "        vertical-align: top;\n",
       "    }\n",
       "\n",
       "    .dataframe thead th {\n",
       "        text-align: right;\n",
       "    }\n",
       "</style>\n",
       "<table border=\"1\" class=\"dataframe\">\n",
       "  <thead>\n",
       "    <tr style=\"text-align: right;\">\n",
       "      <th></th>\n",
       "      <th>CD_SETOR</th>\n",
       "      <th>CD_SIT</th>\n",
       "      <th>NM_SIT</th>\n",
       "      <th>CD_UF</th>\n",
       "      <th>NM_UF</th>\n",
       "      <th>SIGLA_UF</th>\n",
       "      <th>CD_MUN</th>\n",
       "      <th>NM_MUN</th>\n",
       "      <th>CD_DIST</th>\n",
       "      <th>NM_DIST</th>\n",
       "      <th>CD_SUBDIST</th>\n",
       "      <th>NM_SUBDIST</th>\n",
       "      <th>geometry</th>\n",
       "    </tr>\n",
       "  </thead>\n",
       "  <tbody>\n",
       "    <tr>\n",
       "      <th>count</th>\n",
       "      <td>41365</td>\n",
       "      <td>41365</td>\n",
       "      <td>41365</td>\n",
       "      <td>41365</td>\n",
       "      <td>41365</td>\n",
       "      <td>41365</td>\n",
       "      <td>41365</td>\n",
       "      <td>41365</td>\n",
       "      <td>41365</td>\n",
       "      <td>41365</td>\n",
       "      <td>41365</td>\n",
       "      <td>19620</td>\n",
       "      <td>41365</td>\n",
       "    </tr>\n",
       "    <tr>\n",
       "      <th>unique</th>\n",
       "      <td>41365</td>\n",
       "      <td>8</td>\n",
       "      <td>8</td>\n",
       "      <td>1</td>\n",
       "      <td>1</td>\n",
       "      <td>1</td>\n",
       "      <td>92</td>\n",
       "      <td>92</td>\n",
       "      <td>300</td>\n",
       "      <td>299</td>\n",
       "      <td>393</td>\n",
       "      <td>98</td>\n",
       "      <td>41365</td>\n",
       "    </tr>\n",
       "    <tr>\n",
       "      <th>top</th>\n",
       "      <td>330010005000001</td>\n",
       "      <td>1</td>\n",
       "      <td>Área Urbana de Alta Densidade de Edificações</td>\n",
       "      <td>33</td>\n",
       "      <td>Rio de Janeiro</td>\n",
       "      <td>RJ</td>\n",
       "      <td>3304557</td>\n",
       "      <td>Rio de Janeiro</td>\n",
       "      <td>330455705</td>\n",
       "      <td>Rio de Janeiro</td>\n",
       "      <td>33045570521</td>\n",
       "      <td>Jacarepaguá</td>\n",
       "      <td>POLYGON ((-44.3186953759999 -23.009026357, -44...</td>\n",
       "    </tr>\n",
       "    <tr>\n",
       "      <th>freq</th>\n",
       "      <td>1</td>\n",
       "      <td>35975</td>\n",
       "      <td>35975</td>\n",
       "      <td>41365</td>\n",
       "      <td>41365</td>\n",
       "      <td>41365</td>\n",
       "      <td>13665</td>\n",
       "      <td>13665</td>\n",
       "      <td>13665</td>\n",
       "      <td>13665</td>\n",
       "      <td>1403</td>\n",
       "      <td>1403</td>\n",
       "      <td>1</td>\n",
       "    </tr>\n",
       "  </tbody>\n",
       "</table>\n",
       "</div>"
      ],
      "text/plain": [
       "               CD_SETOR CD_SIT                                        NM_SIT  \\\n",
       "count             41365  41365                                         41365   \n",
       "unique            41365      8                                             8   \n",
       "top     330010005000001      1  Área Urbana de Alta Densidade de Edificações   \n",
       "freq                  1  35975                                         35975   \n",
       "\n",
       "        CD_UF           NM_UF SIGLA_UF   CD_MUN          NM_MUN    CD_DIST  \\\n",
       "count   41365           41365    41365    41365           41365      41365   \n",
       "unique      1               1        1       92              92        300   \n",
       "top        33  Rio de Janeiro       RJ  3304557  Rio de Janeiro  330455705   \n",
       "freq    41365           41365    41365    13665           13665      13665   \n",
       "\n",
       "               NM_DIST   CD_SUBDIST   NM_SUBDIST  \\\n",
       "count            41365        41365        19620   \n",
       "unique             299          393           98   \n",
       "top     Rio de Janeiro  33045570521  Jacarepaguá   \n",
       "freq             13665         1403         1403   \n",
       "\n",
       "                                                 geometry  \n",
       "count                                               41365  \n",
       "unique                                              41365  \n",
       "top     POLYGON ((-44.3186953759999 -23.009026357, -44...  \n",
       "freq                                                    1  "
      ]
     },
     "execution_count": 9,
     "metadata": {},
     "output_type": "execute_result"
    }
   ],
   "source": [
    "estado_rj.describe()"
   ]
  },
  {
   "cell_type": "code",
   "execution_count": 9,
   "metadata": {},
   "outputs": [
    {
     "data": {
      "text/plain": [
       "(4,)"
      ]
     },
     "execution_count": 9,
     "metadata": {},
     "output_type": "execute_result"
    }
   ],
   "source": [
    "a.shape"
   ]
  },
  {
   "cell_type": "code",
   "execution_count": 7,
   "metadata": {},
   "outputs": [],
   "source": [
    "b = np.array([[5.2, 3.0, 4.5],[9.1, 0.1, 0.3]])"
   ]
  },
  {
   "cell_type": "code",
   "execution_count": null,
   "metadata": {},
   "outputs": [],
   "source": []
  },
  {
   "cell_type": "code",
   "execution_count": 13,
   "metadata": {},
   "outputs": [
    {
     "name": "stdout",
     "output_type": "stream",
     "text": [
      "[[5.2 3.  4.5]\n",
      " [9.1 0.1 0.3]]\n"
     ]
    }
   ],
   "source": [
    "print(b)"
   ]
  },
  {
   "cell_type": "code",
   "execution_count": 12,
   "metadata": {},
   "outputs": [
    {
     "data": {
      "text/plain": [
       "(2, 3)"
      ]
     },
     "execution_count": 12,
     "metadata": {},
     "output_type": "execute_result"
    }
   ],
   "source": [
    "b.shape"
   ]
  },
  {
   "cell_type": "code",
   "execution_count": 47,
   "metadata": {},
   "outputs": [],
   "source": [
    "c = np.array([[[1, 3],[4, 3],[7, 4]],[[2, 0],[9, 0],[7, 5]],[[1, 0],[3, 0],[0, 2]],[[9, 0],[6, 0],[9, 8]]])\n",
    "c.shape"
   ]
  },
  {
   "cell_type": "code",
   "execution_count": 49,
   "metadata": {},
   "outputs": [
    {
     "data": {
      "text/plain": [
       "(4, 3, 2)"
      ]
     },
     "execution_count": 49,
     "metadata": {},
     "output_type": "execute_result"
    }
   ],
   "source": [
    "c.shape"
   ]
  }
 ],
 "metadata": {
  "kernelspec": {
   "display_name": "Python 3",
   "language": "python",
   "name": "python3"
  },
  "language_info": {
   "codemirror_mode": {
    "name": "ipython",
    "version": 3
   },
   "file_extension": ".py",
   "mimetype": "text/x-python",
   "name": "python",
   "nbconvert_exporter": "python",
   "pygments_lexer": "ipython3",
   "version": "3.11.7"
  }
 },
 "nbformat": 4,
 "nbformat_minor": 2
}
